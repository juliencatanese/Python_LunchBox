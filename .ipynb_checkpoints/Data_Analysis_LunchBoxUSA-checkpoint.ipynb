{
 "cells": [
  {
   "cell_type": "markdown",
   "metadata": {
    "id": "nOUtQ-ogunqp"
   },
   "source": [
    "# DATA ANALYSIS: LUNCH BOX in USA"
   ]
  },
  {
   "cell_type": "code",
   "execution_count": 1,
   "metadata": {
    "id": "W9wvjJ6ku4V7"
   },
   "outputs": [],
   "source": [
    "# import librairies\n",
    "\n",
    "import pandas as pd\n",
    "import numpy as np\n",
    "import matplotlib.pyplot as plt\n",
    "%matplotlib inline\n",
    "import plotly.graph_objects as go"
   ]
  },
  {
   "cell_type": "code",
   "execution_count": 2,
   "metadata": {
    "colab": {
     "base_uri": "https://localhost:8080/",
     "height": 206
    },
    "id": "-HIaC46qvQCF",
    "outputId": "40e30c6c-300f-4299-9bdb-773b2245fe03"
   },
   "outputs": [
    {
     "data": {
      "text/html": [
       "<div>\n",
       "<style scoped>\n",
       "    .dataframe tbody tr th:only-of-type {\n",
       "        vertical-align: middle;\n",
       "    }\n",
       "\n",
       "    .dataframe tbody tr th {\n",
       "        vertical-align: top;\n",
       "    }\n",
       "\n",
       "    .dataframe thead th {\n",
       "        text-align: right;\n",
       "    }\n",
       "</style>\n",
       "<table border=\"1\" class=\"dataframe\">\n",
       "  <thead>\n",
       "    <tr style=\"text-align: right;\">\n",
       "      <th></th>\n",
       "      <th>date_sign_up</th>\n",
       "      <th>customer_id</th>\n",
       "      <th>product_name</th>\n",
       "      <th>marketing_channel</th>\n",
       "      <th>City</th>\n",
       "      <th>Gross Product Margin</th>\n",
       "      <th>Overall Product Margin</th>\n",
       "      <th>Count of product</th>\n",
       "    </tr>\n",
       "  </thead>\n",
       "  <tbody>\n",
       "    <tr>\n",
       "      <th>0</th>\n",
       "      <td>2015-04-16 07:35:22</td>\n",
       "      <td>201307</td>\n",
       "      <td>Classic - 3 meals per week for 2 people</td>\n",
       "      <td>TV / Radio Advertising</td>\n",
       "      <td>San Diego</td>\n",
       "      <td>35</td>\n",
       "      <td>25.0</td>\n",
       "      <td>1</td>\n",
       "    </tr>\n",
       "    <tr>\n",
       "      <th>1</th>\n",
       "      <td>2015-04-13 12:08:19</td>\n",
       "      <td>205322</td>\n",
       "      <td>Classic - 3 meals per week for 2 people</td>\n",
       "      <td>Newsletters (internal)</td>\n",
       "      <td>Chicago</td>\n",
       "      <td>35</td>\n",
       "      <td>34.0</td>\n",
       "      <td>1</td>\n",
       "    </tr>\n",
       "    <tr>\n",
       "      <th>2</th>\n",
       "      <td>2015-04-13 08:10:19</td>\n",
       "      <td>214667</td>\n",
       "      <td>Classic - 3 meals per week for 2 people</td>\n",
       "      <td>TV / Radio Advertising</td>\n",
       "      <td>Chicago</td>\n",
       "      <td>35</td>\n",
       "      <td>34.0</td>\n",
       "      <td>1</td>\n",
       "    </tr>\n",
       "    <tr>\n",
       "      <th>3</th>\n",
       "      <td>2015-04-13 08:50:19</td>\n",
       "      <td>215381</td>\n",
       "      <td>Classic - 3 meals per week for 2 people</td>\n",
       "      <td>Newsletters (internal)</td>\n",
       "      <td>Chicago</td>\n",
       "      <td>35</td>\n",
       "      <td>34.0</td>\n",
       "      <td>1</td>\n",
       "    </tr>\n",
       "    <tr>\n",
       "      <th>4</th>\n",
       "      <td>2015-04-13 09:09:18</td>\n",
       "      <td>215561</td>\n",
       "      <td>Classic - 3 meals per week for 2 people</td>\n",
       "      <td>Newsletters (internal)</td>\n",
       "      <td>Chicago</td>\n",
       "      <td>35</td>\n",
       "      <td>34.0</td>\n",
       "      <td>1</td>\n",
       "    </tr>\n",
       "  </tbody>\n",
       "</table>\n",
       "</div>"
      ],
      "text/plain": [
       "         date_sign_up  customer_id                             product_name  \\\n",
       "0 2015-04-16 07:35:22       201307  Classic - 3 meals per week for 2 people   \n",
       "1 2015-04-13 12:08:19       205322  Classic - 3 meals per week for 2 people   \n",
       "2 2015-04-13 08:10:19       214667  Classic - 3 meals per week for 2 people   \n",
       "3 2015-04-13 08:50:19       215381  Classic - 3 meals per week for 2 people   \n",
       "4 2015-04-13 09:09:18       215561  Classic - 3 meals per week for 2 people   \n",
       "\n",
       "        marketing_channel       City  Gross Product Margin  \\\n",
       "0  TV / Radio Advertising  San Diego                    35   \n",
       "1  Newsletters (internal)    Chicago                    35   \n",
       "2  TV / Radio Advertising    Chicago                    35   \n",
       "3  Newsletters (internal)    Chicago                    35   \n",
       "4  Newsletters (internal)    Chicago                    35   \n",
       "\n",
       "   Overall Product Margin  Count of product  \n",
       "0                    25.0                 1  \n",
       "1                    34.0                 1  \n",
       "2                    34.0                 1  \n",
       "3                    34.0                 1  \n",
       "4                    34.0                 1  "
      ]
     },
     "execution_count": 2,
     "metadata": {},
     "output_type": "execute_result"
    }
   ],
   "source": [
    "# import data\n",
    "\n",
    "df = pd.read_excel('sold_product.xlsx')\n",
    "df.head()"
   ]
  },
  {
   "cell_type": "markdown",
   "metadata": {
    "id": "ZIkY2ZWzu8jU"
   },
   "source": [
    "## 1/How many customers purchased more than 1 product?"
   ]
  },
  {
   "cell_type": "code",
   "execution_count": 3,
   "metadata": {
    "id": "s17o75euu-UK"
   },
   "outputs": [
    {
     "data": {
      "text/plain": [
       "4"
      ]
     },
     "execution_count": 3,
     "metadata": {},
     "output_type": "execute_result"
    }
   ],
   "source": [
    "customer_counts = df.groupby('customer_id')['Count of product'].sum()\n",
    "cust = customer_counts[customer_counts > 1 ]\n",
    "len(cust)"
   ]
  },
  {
   "cell_type": "code",
   "execution_count": 4,
   "metadata": {
    "colab": {
     "base_uri": "https://localhost:8080/"
    },
    "id": "Lidw7ra0wM-f",
    "outputId": "c93fb9e6-b767-4fc8-a861-bb0ba6242874"
   },
   "outputs": [
    {
     "name": "stdout",
     "output_type": "stream",
     "text": [
      "customers ID = [226594 220418 221501 221710]\n",
      "4 customers have bought > 1 product\n"
     ]
    }
   ],
   "source": [
    "# using only the columns Count of product: \n",
    "print('customers ID =' ,df[(df['Count of product']>1)]['customer_id'].unique())\n",
    "print(len(df[(df['Count of product']>1)]['customer_id'].unique()), 'customers have bought > 1 product')"
   ]
  },
  {
   "cell_type": "code",
   "execution_count": 5,
   "metadata": {},
   "outputs": [
    {
     "data": {
      "text/html": [
       "<div>\n",
       "<style scoped>\n",
       "    .dataframe tbody tr th:only-of-type {\n",
       "        vertical-align: middle;\n",
       "    }\n",
       "\n",
       "    .dataframe tbody tr th {\n",
       "        vertical-align: top;\n",
       "    }\n",
       "\n",
       "    .dataframe thead th {\n",
       "        text-align: right;\n",
       "    }\n",
       "</style>\n",
       "<table border=\"1\" class=\"dataframe\">\n",
       "  <thead>\n",
       "    <tr style=\"text-align: right;\">\n",
       "      <th></th>\n",
       "      <th>date_sign_up</th>\n",
       "      <th>customer_id</th>\n",
       "      <th>product_name</th>\n",
       "      <th>marketing_channel</th>\n",
       "      <th>City</th>\n",
       "      <th>Gross Product Margin</th>\n",
       "      <th>Overall Product Margin</th>\n",
       "      <th>Count of product</th>\n",
       "    </tr>\n",
       "  </thead>\n",
       "  <tbody>\n",
       "    <tr>\n",
       "      <th>314</th>\n",
       "      <td>2015-04-19 19:56:20</td>\n",
       "      <td>226594</td>\n",
       "      <td>Classic - 3 meals per week for 2 people</td>\n",
       "      <td>Newsletters (internal)</td>\n",
       "      <td>Miami</td>\n",
       "      <td>35</td>\n",
       "      <td>26.5</td>\n",
       "      <td>2</td>\n",
       "    </tr>\n",
       "    <tr>\n",
       "      <th>315</th>\n",
       "      <td>2015-04-19 19:56:21</td>\n",
       "      <td>226594</td>\n",
       "      <td>Classic - 3 meals per week for 4 people</td>\n",
       "      <td>Newsletters (internal)</td>\n",
       "      <td>Miami</td>\n",
       "      <td>58</td>\n",
       "      <td>49.5</td>\n",
       "      <td>2</td>\n",
       "    </tr>\n",
       "    <tr>\n",
       "      <th>353</th>\n",
       "      <td>2015-04-15 09:55:21</td>\n",
       "      <td>220418</td>\n",
       "      <td>Classic - 3 meals per week for 4 people</td>\n",
       "      <td>Newsletters (internal)</td>\n",
       "      <td>Philadelphia</td>\n",
       "      <td>58</td>\n",
       "      <td>56.0</td>\n",
       "      <td>3</td>\n",
       "    </tr>\n",
       "    <tr>\n",
       "      <th>354</th>\n",
       "      <td>2015-04-15 09:55:22</td>\n",
       "      <td>220418</td>\n",
       "      <td>Classic - 3 meals per week for 4 people</td>\n",
       "      <td>Newsletters (internal)</td>\n",
       "      <td>Philadelphia</td>\n",
       "      <td>58</td>\n",
       "      <td>56.0</td>\n",
       "      <td>3</td>\n",
       "    </tr>\n",
       "    <tr>\n",
       "      <th>439</th>\n",
       "      <td>2015-04-15 09:55:22</td>\n",
       "      <td>220418</td>\n",
       "      <td>Classic - 3 meals per week for 2 people</td>\n",
       "      <td>Newsletters (internal)</td>\n",
       "      <td>Philadelphia</td>\n",
       "      <td>35</td>\n",
       "      <td>33.0</td>\n",
       "      <td>3</td>\n",
       "    </tr>\n",
       "    <tr>\n",
       "      <th>440</th>\n",
       "      <td>2015-04-15 18:12:20</td>\n",
       "      <td>221501</td>\n",
       "      <td>3 Meals (vegetarian) for 4 people</td>\n",
       "      <td>Newsletters (internal)</td>\n",
       "      <td>Philadelphia</td>\n",
       "      <td>52</td>\n",
       "      <td>50.0</td>\n",
       "      <td>2</td>\n",
       "    </tr>\n",
       "    <tr>\n",
       "      <th>441</th>\n",
       "      <td>2015-04-15 18:12:20</td>\n",
       "      <td>221501</td>\n",
       "      <td>Classic - 3 meals per week for 2 people</td>\n",
       "      <td>Newsletters (internal)</td>\n",
       "      <td>Philadelphia</td>\n",
       "      <td>35</td>\n",
       "      <td>33.0</td>\n",
       "      <td>2</td>\n",
       "    </tr>\n",
       "    <tr>\n",
       "      <th>474</th>\n",
       "      <td>2015-04-15 19:32:18</td>\n",
       "      <td>221710</td>\n",
       "      <td>3 Meals (vegetarian) for 2 people</td>\n",
       "      <td>Newsletters (internal)</td>\n",
       "      <td>San Diego</td>\n",
       "      <td>37</td>\n",
       "      <td>27.0</td>\n",
       "      <td>2</td>\n",
       "    </tr>\n",
       "    <tr>\n",
       "      <th>475</th>\n",
       "      <td>2015-04-15 19:32:18</td>\n",
       "      <td>221710</td>\n",
       "      <td>Classic - 3 meals per week for 4 people</td>\n",
       "      <td>Newsletters (internal)</td>\n",
       "      <td>San Diego</td>\n",
       "      <td>58</td>\n",
       "      <td>48.0</td>\n",
       "      <td>2</td>\n",
       "    </tr>\n",
       "  </tbody>\n",
       "</table>\n",
       "</div>"
      ],
      "text/plain": [
       "           date_sign_up  customer_id                             product_name  \\\n",
       "314 2015-04-19 19:56:20       226594  Classic - 3 meals per week for 2 people   \n",
       "315 2015-04-19 19:56:21       226594  Classic - 3 meals per week for 4 people   \n",
       "353 2015-04-15 09:55:21       220418  Classic - 3 meals per week for 4 people   \n",
       "354 2015-04-15 09:55:22       220418  Classic - 3 meals per week for 4 people   \n",
       "439 2015-04-15 09:55:22       220418  Classic - 3 meals per week for 2 people   \n",
       "440 2015-04-15 18:12:20       221501        3 Meals (vegetarian) for 4 people   \n",
       "441 2015-04-15 18:12:20       221501  Classic - 3 meals per week for 2 people   \n",
       "474 2015-04-15 19:32:18       221710        3 Meals (vegetarian) for 2 people   \n",
       "475 2015-04-15 19:32:18       221710  Classic - 3 meals per week for 4 people   \n",
       "\n",
       "          marketing_channel          City  Gross Product Margin  \\\n",
       "314  Newsletters (internal)         Miami                    35   \n",
       "315  Newsletters (internal)         Miami                    58   \n",
       "353  Newsletters (internal)  Philadelphia                    58   \n",
       "354  Newsletters (internal)  Philadelphia                    58   \n",
       "439  Newsletters (internal)  Philadelphia                    35   \n",
       "440  Newsletters (internal)  Philadelphia                    52   \n",
       "441  Newsletters (internal)  Philadelphia                    35   \n",
       "474  Newsletters (internal)     San Diego                    37   \n",
       "475  Newsletters (internal)     San Diego                    58   \n",
       "\n",
       "     Overall Product Margin  Count of product  \n",
       "314                    26.5                 2  \n",
       "315                    49.5                 2  \n",
       "353                    56.0                 3  \n",
       "354                    56.0                 3  \n",
       "439                    33.0                 3  \n",
       "440                    50.0                 2  \n",
       "441                    33.0                 2  \n",
       "474                    27.0                 2  \n",
       "475                    48.0                 2  "
      ]
     },
     "metadata": {},
     "output_type": "display_data"
    },
    {
     "name": "stdout",
     "output_type": "stream",
     "text": [
      "Ntot= 862\n",
      "Nunique= 857\n",
      "customer that purchased more than 1 product = 5\n",
      "WRONG because triplicate count 2 duplicates (see results below) \n",
      " instead do this: \n",
      "IDs that duplicate =  [226594, 220418, 220418, 221501, 221710]\n",
      "n unique IDs =  [220418 221501 221710 226594]\n",
      "Conclusion =  4 customers have bought > 1 product\n"
     ]
    }
   ],
   "source": [
    "display(df[(df['Count of product']!=1)])\n",
    "\n",
    "#Attempt by calculating the diff all - (all-duplicates): DO NOT WORKS here is why: \n",
    "Ntot= np.size(df.index); print('Ntot=',Ntot)\n",
    "Nunique = df.customer_id.unique().size; print('Nunique=',Nunique)\n",
    "Ncust_sup1 = Ntot - Nunique\n",
    "print('customer that purchased more than 1 product =',Ncust_sup1)\n",
    "print('WRONG because triplicate count 2 duplicates (see results below) \\n instead do this: ')\n",
    "\n",
    "# Alternative way to do it using SET function: \n",
    "customer_list = df.customer_id\n",
    "dejavu = set()\n",
    "dup = [x for x in customer_list if x in dejavu or (dejavu.add(x) or False)]\n",
    "print('IDs that duplicate = ',dup) \n",
    "print('n unique IDs = ', np.unique(dup))\n",
    "print('Conclusion = ' , len(np.unique(dup)), 'customers have bought > 1 product')"
   ]
  },
  {
   "cell_type": "markdown",
   "metadata": {
    "id": "VtXBT8hSwvJ9"
   },
   "source": [
    "## 2/Prepare a chart that shows sold food boxes per weekday "
   ]
  },
  {
   "cell_type": "code",
   "execution_count": 6,
   "metadata": {
    "id": "SxIxuHFCww0m"
   },
   "outputs": [
    {
     "data": {
      "text/html": [
       "<div>\n",
       "<style scoped>\n",
       "    .dataframe tbody tr th:only-of-type {\n",
       "        vertical-align: middle;\n",
       "    }\n",
       "\n",
       "    .dataframe tbody tr th {\n",
       "        vertical-align: top;\n",
       "    }\n",
       "\n",
       "    .dataframe thead th {\n",
       "        text-align: right;\n",
       "    }\n",
       "</style>\n",
       "<table border=\"1\" class=\"dataframe\">\n",
       "  <thead>\n",
       "    <tr style=\"text-align: right;\">\n",
       "      <th></th>\n",
       "      <th>date_sign_up</th>\n",
       "      <th>customer_id</th>\n",
       "      <th>product_name</th>\n",
       "      <th>marketing_channel</th>\n",
       "      <th>City</th>\n",
       "      <th>Gross Product Margin</th>\n",
       "      <th>Overall Product Margin</th>\n",
       "      <th>Count of product</th>\n",
       "      <th>weekday</th>\n",
       "    </tr>\n",
       "  </thead>\n",
       "  <tbody>\n",
       "    <tr>\n",
       "      <th>0</th>\n",
       "      <td>2015-04-16 07:35:22</td>\n",
       "      <td>201307</td>\n",
       "      <td>Classic - 3 meals per week for 2 people</td>\n",
       "      <td>TV / Radio Advertising</td>\n",
       "      <td>San Diego</td>\n",
       "      <td>35</td>\n",
       "      <td>25.0</td>\n",
       "      <td>1</td>\n",
       "      <td>Thursday</td>\n",
       "    </tr>\n",
       "    <tr>\n",
       "      <th>1</th>\n",
       "      <td>2015-04-13 12:08:19</td>\n",
       "      <td>205322</td>\n",
       "      <td>Classic - 3 meals per week for 2 people</td>\n",
       "      <td>Newsletters (internal)</td>\n",
       "      <td>Chicago</td>\n",
       "      <td>35</td>\n",
       "      <td>34.0</td>\n",
       "      <td>1</td>\n",
       "      <td>Monday</td>\n",
       "    </tr>\n",
       "    <tr>\n",
       "      <th>2</th>\n",
       "      <td>2015-04-13 08:10:19</td>\n",
       "      <td>214667</td>\n",
       "      <td>Classic - 3 meals per week for 2 people</td>\n",
       "      <td>TV / Radio Advertising</td>\n",
       "      <td>Chicago</td>\n",
       "      <td>35</td>\n",
       "      <td>34.0</td>\n",
       "      <td>1</td>\n",
       "      <td>Monday</td>\n",
       "    </tr>\n",
       "    <tr>\n",
       "      <th>3</th>\n",
       "      <td>2015-04-13 08:50:19</td>\n",
       "      <td>215381</td>\n",
       "      <td>Classic - 3 meals per week for 2 people</td>\n",
       "      <td>Newsletters (internal)</td>\n",
       "      <td>Chicago</td>\n",
       "      <td>35</td>\n",
       "      <td>34.0</td>\n",
       "      <td>1</td>\n",
       "      <td>Monday</td>\n",
       "    </tr>\n",
       "    <tr>\n",
       "      <th>4</th>\n",
       "      <td>2015-04-13 09:09:18</td>\n",
       "      <td>215561</td>\n",
       "      <td>Classic - 3 meals per week for 2 people</td>\n",
       "      <td>Newsletters (internal)</td>\n",
       "      <td>Chicago</td>\n",
       "      <td>35</td>\n",
       "      <td>34.0</td>\n",
       "      <td>1</td>\n",
       "      <td>Monday</td>\n",
       "    </tr>\n",
       "  </tbody>\n",
       "</table>\n",
       "</div>"
      ],
      "text/plain": [
       "         date_sign_up  customer_id                             product_name  \\\n",
       "0 2015-04-16 07:35:22       201307  Classic - 3 meals per week for 2 people   \n",
       "1 2015-04-13 12:08:19       205322  Classic - 3 meals per week for 2 people   \n",
       "2 2015-04-13 08:10:19       214667  Classic - 3 meals per week for 2 people   \n",
       "3 2015-04-13 08:50:19       215381  Classic - 3 meals per week for 2 people   \n",
       "4 2015-04-13 09:09:18       215561  Classic - 3 meals per week for 2 people   \n",
       "\n",
       "        marketing_channel       City  Gross Product Margin  \\\n",
       "0  TV / Radio Advertising  San Diego                    35   \n",
       "1  Newsletters (internal)    Chicago                    35   \n",
       "2  TV / Radio Advertising    Chicago                    35   \n",
       "3  Newsletters (internal)    Chicago                    35   \n",
       "4  Newsletters (internal)    Chicago                    35   \n",
       "\n",
       "   Overall Product Margin  Count of product   weekday  \n",
       "0                    25.0                 1  Thursday  \n",
       "1                    34.0                 1    Monday  \n",
       "2                    34.0                 1    Monday  \n",
       "3                    34.0                 1    Monday  \n",
       "4                    34.0                 1    Monday  "
      ]
     },
     "execution_count": 6,
     "metadata": {},
     "output_type": "execute_result"
    }
   ],
   "source": [
    "df['weekday'] = df['date_sign_up'].dt.day_name()\n",
    "df.head()"
   ]
  },
  {
   "cell_type": "code",
   "execution_count": 7,
   "metadata": {
    "colab": {
     "base_uri": "https://localhost:8080/"
    },
    "id": "lUZzgeWOxoNE",
    "outputId": "6349677b-6c15-48bd-9522-2c498237c2f3"
   },
   "outputs": [
    {
     "data": {
      "text/plain": [
       "date_sign_up              0\n",
       "customer_id               0\n",
       "product_name              0\n",
       "marketing_channel         0\n",
       "City                      0\n",
       "Gross Product Margin      0\n",
       "Overall Product Margin    0\n",
       "Count of product          0\n",
       "weekday                   0\n",
       "dtype: int64"
      ]
     },
     "execution_count": 7,
     "metadata": {},
     "output_type": "execute_result"
    }
   ],
   "source": [
    "df.isna().sum()"
   ]
  },
  {
   "cell_type": "code",
   "execution_count": 8,
   "metadata": {
    "id": "WfNfaux1xwcc"
   },
   "outputs": [
    {
     "data": {
      "text/plain": [
       "weekday\n",
       "Friday        71\n",
       "Monday       105\n",
       "Saturday      87\n",
       "Sunday       130\n",
       "Thursday      63\n",
       "Tuesday      221\n",
       "Wednesday    197\n",
       "Name: Count of product, dtype: int64"
      ]
     },
     "execution_count": 8,
     "metadata": {},
     "output_type": "execute_result"
    }
   ],
   "source": [
    "sold_per_weekday = df.groupby('weekday')['Count of product'].sum()\n",
    "sold_per_weekday"
   ]
  },
  {
   "cell_type": "code",
   "execution_count": 9,
   "metadata": {
    "colab": {
     "base_uri": "https://localhost:8080/"
    },
    "id": "upTuaV89yRnb",
    "outputId": "06c02ad5-eefe-497e-bd1d-b78c4b15adb2"
   },
   "outputs": [
    {
     "data": {
      "text/plain": [
       "Index(['Friday', 'Monday', 'Saturday', 'Sunday', 'Thursday', 'Tuesday',\n",
       "       'Wednesday'],\n",
       "      dtype='object', name='weekday')"
      ]
     },
     "execution_count": 9,
     "metadata": {},
     "output_type": "execute_result"
    }
   ],
   "source": [
    "sold_per_weekday.index"
   ]
  },
  {
   "cell_type": "code",
   "execution_count": 10,
   "metadata": {
    "colab": {
     "base_uri": "https://localhost:8080/"
    },
    "id": "2eAYKMmOyEbK",
    "outputId": "93b94c58-f22b-4a62-ffc5-d3d9966b3db5"
   },
   "outputs": [
    {
     "data": {
      "text/plain": [
       "array([ 71, 105,  87, 130,  63, 221, 197])"
      ]
     },
     "execution_count": 10,
     "metadata": {},
     "output_type": "execute_result"
    }
   ],
   "source": [
    "sold_per_weekday.values"
   ]
  },
  {
   "cell_type": "code",
   "execution_count": 11,
   "metadata": {
    "colab": {
     "base_uri": "https://localhost:8080/",
     "height": 872
    },
    "id": "1lZYMIIuyUax",
    "outputId": "b5f2f400-71e6-4682-abf6-dc57467de055"
   },
   "outputs": [
    {
     "data": {
      "image/png": "[encoded data removed]",
      "text/plain": [
       "<Figure size 1000x1000 with 1 Axes>"
      ]
     },
     "metadata": {},
     "output_type": "display_data"
    }
   ],
   "source": [
    "plt.figure(figsize = (10,10))\n",
    "plt.bar(sold_per_weekday.index, sold_per_weekday.values)\n",
    "plt.xlabel('Weekday')\n",
    "plt.ylabel(\"Sold food boxes\")\n",
    "plt.title('Sold food boxes per weekday')\n",
    "plt.show()"
   ]
  },
  {
   "cell_type": "code",
   "execution_count": 12,
   "metadata": {},
   "outputs": [
    {
     "data": {
      "image/png": "[encoded data removed]",
      "text/plain": [
       "<Figure size 640x480 with 1 Axes>"
      ]
     },
     "metadata": {},
     "output_type": "display_data"
    }
   ],
   "source": [
    "plt.pie(x=sold_per_weekday.values, \n",
    "        labels=sold_per_weekday.index, \n",
    "        autopct =  lambda x: str(x.round(1)) + '%',\n",
    "        counterclock=True\n",
    "       ); \n"
   ]
  },
  {
   "cell_type": "code",
   "execution_count": 13,
   "metadata": {},
   "outputs": [
    {
     "data": {
      "text/plain": [
       "<Axes: title={'center': 'Count of product'}, xlabel='weekday'>"
      ]
     },
     "execution_count": 13,
     "metadata": {},
     "output_type": "execute_result"
    },
    {
     "data": {
      "image/png": "[encoded data removed]",
      "text/plain": [
       "<Figure size 640x480 with 1 Axes>"
      ]
     },
     "metadata": {},
     "output_type": "display_data"
    }
   ],
   "source": [
    "sold_per_weekday2 = df[['Count of product','weekday']].groupby('weekday').count()\n",
    "sold_per_weekday2.boxplot(column='Count of product', by='weekday')"
   ]
  },
  {
   "cell_type": "code",
   "execution_count": null,
   "metadata": {},
   "outputs": [],
   "source": [
    "fig = go.Figure(data = go.Bar( x = sold_per_weekday.index , y = sold_per_weekday.values))\n",
    "\n",
    "fig.update_layout(\n",
    "    title='Sold Food Boxes per Weekday',\n",
    "    xaxis_title='Weekday',\n",
    "    yaxis_title='Sold Food Boxes',\n",
    "    width=800,\n",
    "    height=600\n",
    ")"
   ]
  },
  {
   "cell_type": "markdown",
   "metadata": {
    "id": "7ccBHOVrz4K9"
   },
   "source": [
    "## 3/How many products sold for 2 people vs for 4 people?"
   ]
  },
  {
   "cell_type": "code",
   "execution_count": null,
   "metadata": {
    "colab": {
     "base_uri": "https://localhost:8080/"
    },
    "id": "XQ_cVyIwzjda",
    "outputId": "629e7b42-245f-405c-e367-824771dd9a79"
   },
   "outputs": [
    {
     "data": {
      "text/plain": [
       "product_name\n",
       "Classic - 3 meals per week for 2 people    635\n",
       "Classic - 3 meals per week for 4 people    130\n",
       "3 Meals (vegetarian) for 2 people           85\n",
       "3 Meals (vegetarian) for 4 people           12\n",
       "Name: count, dtype: int64"
      ]
     },
     "execution_count": 15,
     "metadata": {},
     "output_type": "execute_result"
    }
   ],
   "source": [
    "df['product_name'].value_counts()"
   ]
  },
  {
   "cell_type": "code",
   "execution_count": 16,
   "metadata": {
    "colab": {
     "base_uri": "https://localhost:8080/"
    },
    "id": "q_hpI7Iu0QEL",
    "outputId": "5a90d541-a977-4203-83cf-94948d61440f"
   },
   "outputs": [
    {
     "data": {
      "text/plain": [
       "product_name\n",
       "3 Meals (vegetarian) for 2 people           86\n",
       "3 Meals (vegetarian) for 4 people           13\n",
       "Classic - 3 meals per week for 2 people    639\n",
       "Classic - 3 meals per week for 4 people    136\n",
       "Name: Count of product, dtype: int64"
      ]
     },
     "execution_count": 16,
     "metadata": {},
     "output_type": "execute_result"
    }
   ],
   "source": [
    "df.groupby('product_name')['Count of product'].sum()\n",
    "# 'the mismatch between value count and groupby come from triplicate (see the end of section 1/) ')\n",
    "# in that case value count is more accurate')"
   ]
  },
  {
   "cell_type": "code",
   "execution_count": 17,
   "metadata": {
    "colab": {
     "base_uri": "https://localhost:8080/"
    },
    "id": "AbeI2DdD0r1U",
    "outputId": "fca0a1af-edd9-42a2-c577-3bf26b66654f"
   },
   "outputs": [
    {
     "data": {
      "text/html": [
       "<div>\n",
       "<style scoped>\n",
       "    .dataframe tbody tr th:only-of-type {\n",
       "        vertical-align: middle;\n",
       "    }\n",
       "\n",
       "    .dataframe tbody tr th {\n",
       "        vertical-align: top;\n",
       "    }\n",
       "\n",
       "    .dataframe thead th {\n",
       "        text-align: right;\n",
       "    }\n",
       "</style>\n",
       "<table border=\"1\" class=\"dataframe\">\n",
       "  <thead>\n",
       "    <tr style=\"text-align: right;\">\n",
       "      <th></th>\n",
       "      <th>date_sign_up</th>\n",
       "      <th>customer_id</th>\n",
       "      <th>product_name</th>\n",
       "      <th>marketing_channel</th>\n",
       "      <th>City</th>\n",
       "      <th>Gross Product Margin</th>\n",
       "      <th>Overall Product Margin</th>\n",
       "      <th>Count of product</th>\n",
       "      <th>weekday</th>\n",
       "      <th>number_of_people</th>\n",
       "    </tr>\n",
       "  </thead>\n",
       "  <tbody>\n",
       "    <tr>\n",
       "      <th>0</th>\n",
       "      <td>2015-04-16 07:35:22</td>\n",
       "      <td>201307</td>\n",
       "      <td>Classic - 3 meals per week for 2 people</td>\n",
       "      <td>TV / Radio Advertising</td>\n",
       "      <td>San Diego</td>\n",
       "      <td>35</td>\n",
       "      <td>25.0</td>\n",
       "      <td>1</td>\n",
       "      <td>Thursday</td>\n",
       "      <td>2</td>\n",
       "    </tr>\n",
       "    <tr>\n",
       "      <th>1</th>\n",
       "      <td>2015-04-13 12:08:19</td>\n",
       "      <td>205322</td>\n",
       "      <td>Classic - 3 meals per week for 2 people</td>\n",
       "      <td>Newsletters (internal)</td>\n",
       "      <td>Chicago</td>\n",
       "      <td>35</td>\n",
       "      <td>34.0</td>\n",
       "      <td>1</td>\n",
       "      <td>Monday</td>\n",
       "      <td>2</td>\n",
       "    </tr>\n",
       "    <tr>\n",
       "      <th>2</th>\n",
       "      <td>2015-04-13 08:10:19</td>\n",
       "      <td>214667</td>\n",
       "      <td>Classic - 3 meals per week for 2 people</td>\n",
       "      <td>TV / Radio Advertising</td>\n",
       "      <td>Chicago</td>\n",
       "      <td>35</td>\n",
       "      <td>34.0</td>\n",
       "      <td>1</td>\n",
       "      <td>Monday</td>\n",
       "      <td>2</td>\n",
       "    </tr>\n",
       "    <tr>\n",
       "      <th>3</th>\n",
       "      <td>2015-04-13 08:50:19</td>\n",
       "      <td>215381</td>\n",
       "      <td>Classic - 3 meals per week for 2 people</td>\n",
       "      <td>Newsletters (internal)</td>\n",
       "      <td>Chicago</td>\n",
       "      <td>35</td>\n",
       "      <td>34.0</td>\n",
       "      <td>1</td>\n",
       "      <td>Monday</td>\n",
       "      <td>2</td>\n",
       "    </tr>\n",
       "    <tr>\n",
       "      <th>4</th>\n",
       "      <td>2015-04-13 09:09:18</td>\n",
       "      <td>215561</td>\n",
       "      <td>Classic - 3 meals per week for 2 people</td>\n",
       "      <td>Newsletters (internal)</td>\n",
       "      <td>Chicago</td>\n",
       "      <td>35</td>\n",
       "      <td>34.0</td>\n",
       "      <td>1</td>\n",
       "      <td>Monday</td>\n",
       "      <td>2</td>\n",
       "    </tr>\n",
       "  </tbody>\n",
       "</table>\n",
       "</div>"
      ],
      "text/plain": [
       "         date_sign_up  customer_id                             product_name  \\\n",
       "0 2015-04-16 07:35:22       201307  Classic - 3 meals per week for 2 people   \n",
       "1 2015-04-13 12:08:19       205322  Classic - 3 meals per week for 2 people   \n",
       "2 2015-04-13 08:10:19       214667  Classic - 3 meals per week for 2 people   \n",
       "3 2015-04-13 08:50:19       215381  Classic - 3 meals per week for 2 people   \n",
       "4 2015-04-13 09:09:18       215561  Classic - 3 meals per week for 2 people   \n",
       "\n",
       "        marketing_channel       City  Gross Product Margin  \\\n",
       "0  TV / Radio Advertising  San Diego                    35   \n",
       "1  Newsletters (internal)    Chicago                    35   \n",
       "2  TV / Radio Advertising    Chicago                    35   \n",
       "3  Newsletters (internal)    Chicago                    35   \n",
       "4  Newsletters (internal)    Chicago                    35   \n",
       "\n",
       "   Overall Product Margin  Count of product   weekday  number_of_people  \n",
       "0                    25.0                 1  Thursday                 2  \n",
       "1                    34.0                 1    Monday                 2  \n",
       "2                    34.0                 1    Monday                 2  \n",
       "3                    34.0                 1    Monday                 2  \n",
       "4                    34.0                 1    Monday                 2  "
      ]
     },
     "metadata": {},
     "output_type": "display_data"
    },
    {
     "name": "stdout",
     "output_type": "stream",
     "text": [
      "option1 = number_of_people\n",
      "2    720\n",
      "4    142\n",
      "Name: Count of product, dtype: int64\n",
      "option2 = number_of_people\n",
      "2    725\n",
      "4    149\n",
      "Name: Count of product, dtype: int64\n",
      "because of what we have seen in section 1/ we favor option 1 here\n"
     ]
    }
   ],
   "source": [
    "# function to read number of people (2 or 4): \n",
    "\n",
    "def number_of_people(x):\n",
    "    if '2' in x :\n",
    "        return 2\n",
    "\n",
    "    elif '4' in x :\n",
    "        return 4\n",
    "\n",
    "df['number_of_people'] = df['product_name'].apply(number_of_people)\n",
    "display(df.head())\n",
    "\n",
    "### option 1\n",
    "print('option1 =', df.groupby('number_of_people')['Count of product'].count())\n",
    "\n",
    "### option 2\n",
    "print('option2 =', df.groupby('number_of_people')['Count of product'].sum())\n",
    "\n",
    "print('because of what we have seen in section 1/ we favor option 1 here')"
   ]
  },
  {
   "cell_type": "markdown",
   "metadata": {
    "id": "NgllXvDO2WdP"
   },
   "source": [
    "## 4/ How many food boxes \"Classic - 3 meals per week for 2 people\" were sold via marketing channel \"TV / Radio Advertising\"?"
   ]
  },
  {
   "cell_type": "code",
   "execution_count": 18,
   "metadata": {
    "id": "7x8sU6dg2mY8"
   },
   "outputs": [
    {
     "name": "stdout",
     "output_type": "stream",
     "text": [
      "answer= 203\n"
     ]
    }
   ],
   "source": [
    "# quick answer:\n",
    "\n",
    "counts_sold = df.loc[(df['marketing_channel'] == 'TV / Radio Advertising') & (df['product_name'] == 'Classic - 3 meals per week for 2 people' ) ]\n",
    "print('answer=',counts_sold['Count of product'].count())"
   ]
  },
  {
   "cell_type": "code",
   "execution_count": 19,
   "metadata": {
    "colab": {
     "base_uri": "https://localhost:8080/"
    },
    "id": "3teSltpH3anF",
    "outputId": "78cd0b24-b7f6-4b9f-a3fa-f31f2f8a7c7b"
   },
   "outputs": [
    {
     "data": {
      "text/html": [
       "<div>\n",
       "<style scoped>\n",
       "    .dataframe tbody tr th:only-of-type {\n",
       "        vertical-align: middle;\n",
       "    }\n",
       "\n",
       "    .dataframe tbody tr th {\n",
       "        vertical-align: top;\n",
       "    }\n",
       "\n",
       "    .dataframe thead th {\n",
       "        text-align: right;\n",
       "    }\n",
       "</style>\n",
       "<table border=\"1\" class=\"dataframe\">\n",
       "  <thead>\n",
       "    <tr style=\"text-align: right;\">\n",
       "      <th></th>\n",
       "      <th>product_name</th>\n",
       "      <th>marketing_channel</th>\n",
       "    </tr>\n",
       "  </thead>\n",
       "  <tbody>\n",
       "    <tr>\n",
       "      <th>0</th>\n",
       "      <td>Classic - 3 meals per week for 2 people</td>\n",
       "      <td>TV / Radio Advertising</td>\n",
       "    </tr>\n",
       "    <tr>\n",
       "      <th>1</th>\n",
       "      <td>Classic - 3 meals per week for 2 people</td>\n",
       "      <td>Newsletters (internal)</td>\n",
       "    </tr>\n",
       "    <tr>\n",
       "      <th>2</th>\n",
       "      <td>Classic - 3 meals per week for 2 people</td>\n",
       "      <td>TV / Radio Advertising</td>\n",
       "    </tr>\n",
       "    <tr>\n",
       "      <th>3</th>\n",
       "      <td>Classic - 3 meals per week for 2 people</td>\n",
       "      <td>Newsletters (internal)</td>\n",
       "    </tr>\n",
       "    <tr>\n",
       "      <th>4</th>\n",
       "      <td>Classic - 3 meals per week for 2 people</td>\n",
       "      <td>Newsletters (internal)</td>\n",
       "    </tr>\n",
       "  </tbody>\n",
       "</table>\n",
       "</div>"
      ],
      "text/plain": [
       "                              product_name       marketing_channel\n",
       "0  Classic - 3 meals per week for 2 people  TV / Radio Advertising\n",
       "1  Classic - 3 meals per week for 2 people  Newsletters (internal)\n",
       "2  Classic - 3 meals per week for 2 people  TV / Radio Advertising\n",
       "3  Classic - 3 meals per week for 2 people  Newsletters (internal)\n",
       "4  Classic - 3 meals per week for 2 people  Newsletters (internal)"
      ]
     },
     "metadata": {},
     "output_type": "display_data"
    },
    {
     "name": "stdout",
     "output_type": "stream",
     "text": [
      "marketing_channel\n",
      "Newsletters (internal)     409\n",
      "TV / Radio Advertising     259\n",
      "Search Engine Marketing    105\n",
      "Partnership Marketing       89\n",
      "Name: count, dtype: int64 \n",
      "\n",
      "product_name\n",
      "Classic - 3 meals per week for 2 people    635\n",
      "Classic - 3 meals per week for 4 people    130\n",
      "3 Meals (vegetarian) for 2 people           85\n",
      "3 Meals (vegetarian) for 4 people           12\n",
      "Name: count, dtype: int64 \n",
      "\n",
      "Nb of idx_Classic2people is True =  635\n",
      "Nb of idx_TVradio is True  =  259\n",
      "The intersection is =  203 \n",
      "\n",
      "Conclusion: the Nb of \"Classic food boxes for 2 people\" via \"TV/radio\" advertising is = 203\n"
     ]
    }
   ],
   "source": [
    "# long answer, explained in details:\n",
    "\n",
    "display(df[['product_name', 'marketing_channel']].head())\n",
    "print(df.marketing_channel.value_counts(), '\\n')\n",
    "print(df.product_name.value_counts(), '\\n')\n",
    "\n",
    "# looking for intersection between TVradio AND Classic2people\n",
    "AA = df[['product_name', 'marketing_channel']]; \n",
    "idx_Classic2people = AA.product_name=='Classic - 3 meals per week for 2 people';\n",
    "print('Nb of idx_Classic2people is True = ',  idx_Classic2people.sum())\n",
    "idx_TVradio = AA.marketing_channel=='TV / Radio Advertising'; \n",
    "print('Nb of idx_TVradio is True  = ',  idx_TVradio.sum())\n",
    "intersect = idx_Classic2people & idx_TVradio\n",
    "print('The intersection is = ',  intersect.sum(), '\\n')\n",
    "print('Conclusion: the Nb of \"Classic food boxes for 2 people\" via \"TV/radio\" advertising is =', \n",
    "      intersect.sum())"
   ]
  },
  {
   "cell_type": "markdown",
   "metadata": {
    "id": "oTFytsiB3jRl"
   },
   "source": [
    "## 5/Create an additional column with states names "
   ]
  },
  {
   "cell_type": "code",
   "execution_count": 20,
   "metadata": {
    "id": "vGG2hfNi3xnr"
   },
   "outputs": [
    {
     "data": {
      "text/html": [
       "<div>\n",
       "<style scoped>\n",
       "    .dataframe tbody tr th:only-of-type {\n",
       "        vertical-align: middle;\n",
       "    }\n",
       "\n",
       "    .dataframe tbody tr th {\n",
       "        vertical-align: top;\n",
       "    }\n",
       "\n",
       "    .dataframe thead th {\n",
       "        text-align: right;\n",
       "    }\n",
       "</style>\n",
       "<table border=\"1\" class=\"dataframe\">\n",
       "  <thead>\n",
       "    <tr style=\"text-align: right;\">\n",
       "      <th></th>\n",
       "      <th>State</th>\n",
       "      <th>California</th>\n",
       "      <th>California.1</th>\n",
       "      <th>California.2</th>\n",
       "      <th>Florida</th>\n",
       "      <th>Pennsylvania</th>\n",
       "      <th>Washington</th>\n",
       "      <th>Illinois</th>\n",
       "      <th>New York</th>\n",
       "    </tr>\n",
       "  </thead>\n",
       "  <tbody>\n",
       "    <tr>\n",
       "      <th>0</th>\n",
       "      <td>City</td>\n",
       "      <td>San Diego</td>\n",
       "      <td>Los Angeles</td>\n",
       "      <td>San Francisco</td>\n",
       "      <td>Miami</td>\n",
       "      <td>Philadelphia</td>\n",
       "      <td>Washington</td>\n",
       "      <td>Chicago</td>\n",
       "      <td>New York</td>\n",
       "    </tr>\n",
       "  </tbody>\n",
       "</table>\n",
       "</div>"
      ],
      "text/plain": [
       "  State California California.1   California.2 Florida  Pennsylvania  \\\n",
       "0  City  San Diego  Los Angeles  San Francisco   Miami  Philadelphia   \n",
       "\n",
       "   Washington Illinois  New York  \n",
       "0  Washington  Chicago  New York  "
      ]
     },
     "metadata": {},
     "output_type": "display_data"
    },
    {
     "name": "stdout",
     "output_type": "stream",
     "text": [
      "['City' 'San Diego' 'Los Angeles' 'San Francisco' 'Miami' 'Philadelphia'\n",
      " 'Washington' 'Chicago' 'New York']\n",
      "['State' 'California' 'California.1' 'California.2' 'Florida'\n",
      " 'Pennsylvania' 'Washington' 'Illinois' 'New York']\n"
     ]
    }
   ],
   "source": [
    "state = pd.read_csv('state.csv')\n",
    "display(state.head())\n",
    "print(np.array(state.iloc[0,:]))\n",
    "print(np.array(state.columns))"
   ]
  },
  {
   "cell_type": "code",
   "execution_count": 21,
   "metadata": {},
   "outputs": [
    {
     "data": {
      "text/html": [
       "<div>\n",
       "<style scoped>\n",
       "    .dataframe tbody tr th:only-of-type {\n",
       "        vertical-align: middle;\n",
       "    }\n",
       "\n",
       "    .dataframe tbody tr th {\n",
       "        vertical-align: top;\n",
       "    }\n",
       "\n",
       "    .dataframe thead th {\n",
       "        text-align: right;\n",
       "    }\n",
       "</style>\n",
       "<table border=\"1\" class=\"dataframe\">\n",
       "  <thead>\n",
       "    <tr style=\"text-align: right;\">\n",
       "      <th></th>\n",
       "      <th>State</th>\n",
       "      <th>City</th>\n",
       "    </tr>\n",
       "  </thead>\n",
       "  <tbody>\n",
       "    <tr>\n",
       "      <th>1</th>\n",
       "      <td>California</td>\n",
       "      <td>San Diego</td>\n",
       "    </tr>\n",
       "    <tr>\n",
       "      <th>2</th>\n",
       "      <td>California.1</td>\n",
       "      <td>Los Angeles</td>\n",
       "    </tr>\n",
       "    <tr>\n",
       "      <th>3</th>\n",
       "      <td>California.2</td>\n",
       "      <td>San Francisco</td>\n",
       "    </tr>\n",
       "    <tr>\n",
       "      <th>4</th>\n",
       "      <td>Florida</td>\n",
       "      <td>Miami</td>\n",
       "    </tr>\n",
       "    <tr>\n",
       "      <th>5</th>\n",
       "      <td>Pennsylvania</td>\n",
       "      <td>Philadelphia</td>\n",
       "    </tr>\n",
       "    <tr>\n",
       "      <th>6</th>\n",
       "      <td>Washington</td>\n",
       "      <td>Washington</td>\n",
       "    </tr>\n",
       "    <tr>\n",
       "      <th>7</th>\n",
       "      <td>Illinois</td>\n",
       "      <td>Chicago</td>\n",
       "    </tr>\n",
       "    <tr>\n",
       "      <th>8</th>\n",
       "      <td>New York</td>\n",
       "      <td>New York</td>\n",
       "    </tr>\n",
       "  </tbody>\n",
       "</table>\n",
       "</div>"
      ],
      "text/plain": [
       "          State           City\n",
       "1    California      San Diego\n",
       "2  California.1    Los Angeles\n",
       "3  California.2  San Francisco\n",
       "4       Florida          Miami\n",
       "5  Pennsylvania   Philadelphia\n",
       "6    Washington     Washington\n",
       "7      Illinois        Chicago\n",
       "8      New York       New York"
      ]
     },
     "execution_count": 21,
     "metadata": {},
     "output_type": "execute_result"
    }
   ],
   "source": [
    "# Creating my_tab_state\n",
    "my_tab_state = pd.DataFrame();\n",
    "my_tab_state['State']= np.array(state.columns); \n",
    "my_tab_state['City']= np.array(state.iloc[0,:]); \n",
    "my_tab_state.drop([0],inplace=True)\n",
    "my_tab_state.head(10)"
   ]
  },
  {
   "cell_type": "code",
   "execution_count": 22,
   "metadata": {},
   "outputs": [
    {
     "data": {
      "text/html": [
       "<div>\n",
       "<style scoped>\n",
       "    .dataframe tbody tr th:only-of-type {\n",
       "        vertical-align: middle;\n",
       "    }\n",
       "\n",
       "    .dataframe tbody tr th {\n",
       "        vertical-align: top;\n",
       "    }\n",
       "\n",
       "    .dataframe thead th {\n",
       "        text-align: right;\n",
       "    }\n",
       "</style>\n",
       "<table border=\"1\" class=\"dataframe\">\n",
       "  <thead>\n",
       "    <tr style=\"text-align: right;\">\n",
       "      <th></th>\n",
       "      <th>date_sign_up</th>\n",
       "      <th>customer_id</th>\n",
       "      <th>product_name</th>\n",
       "      <th>marketing_channel</th>\n",
       "      <th>City</th>\n",
       "      <th>Gross Product Margin</th>\n",
       "      <th>Overall Product Margin</th>\n",
       "      <th>Count of product</th>\n",
       "      <th>weekday</th>\n",
       "      <th>number_of_people</th>\n",
       "      <th>State</th>\n",
       "    </tr>\n",
       "  </thead>\n",
       "  <tbody>\n",
       "    <tr>\n",
       "      <th>0</th>\n",
       "      <td>2015-04-16 07:35:22</td>\n",
       "      <td>201307</td>\n",
       "      <td>Classic - 3 meals per week for 2 people</td>\n",
       "      <td>TV / Radio Advertising</td>\n",
       "      <td>San Diego</td>\n",
       "      <td>35</td>\n",
       "      <td>25.0</td>\n",
       "      <td>1</td>\n",
       "      <td>Thursday</td>\n",
       "      <td>2</td>\n",
       "      <td>California</td>\n",
       "    </tr>\n",
       "    <tr>\n",
       "      <th>1</th>\n",
       "      <td>2015-04-16 09:35:25</td>\n",
       "      <td>214129</td>\n",
       "      <td>Classic - 3 meals per week for 4 people</td>\n",
       "      <td>Search Engine Marketing</td>\n",
       "      <td>San Diego</td>\n",
       "      <td>58</td>\n",
       "      <td>48.0</td>\n",
       "      <td>1</td>\n",
       "      <td>Thursday</td>\n",
       "      <td>4</td>\n",
       "      <td>California</td>\n",
       "    </tr>\n",
       "    <tr>\n",
       "      <th>2</th>\n",
       "      <td>2015-04-16 09:30:21</td>\n",
       "      <td>215505</td>\n",
       "      <td>Classic - 3 meals per week for 2 people</td>\n",
       "      <td>TV / Radio Advertising</td>\n",
       "      <td>San Diego</td>\n",
       "      <td>35</td>\n",
       "      <td>25.0</td>\n",
       "      <td>1</td>\n",
       "      <td>Thursday</td>\n",
       "      <td>2</td>\n",
       "      <td>California</td>\n",
       "    </tr>\n",
       "    <tr>\n",
       "      <th>3</th>\n",
       "      <td>2015-04-16 11:49:18</td>\n",
       "      <td>217739</td>\n",
       "      <td>Classic - 3 meals per week for 4 people</td>\n",
       "      <td>Newsletters (internal)</td>\n",
       "      <td>San Diego</td>\n",
       "      <td>58</td>\n",
       "      <td>48.0</td>\n",
       "      <td>1</td>\n",
       "      <td>Thursday</td>\n",
       "      <td>4</td>\n",
       "      <td>California</td>\n",
       "    </tr>\n",
       "    <tr>\n",
       "      <th>4</th>\n",
       "      <td>2015-04-17 09:39:19</td>\n",
       "      <td>217784</td>\n",
       "      <td>Classic - 3 meals per week for 4 people</td>\n",
       "      <td>Newsletters (internal)</td>\n",
       "      <td>San Diego</td>\n",
       "      <td>58</td>\n",
       "      <td>48.0</td>\n",
       "      <td>1</td>\n",
       "      <td>Friday</td>\n",
       "      <td>4</td>\n",
       "      <td>California</td>\n",
       "    </tr>\n",
       "  </tbody>\n",
       "</table>\n",
       "</div>"
      ],
      "text/plain": [
       "         date_sign_up  customer_id                             product_name  \\\n",
       "0 2015-04-16 07:35:22       201307  Classic - 3 meals per week for 2 people   \n",
       "1 2015-04-16 09:35:25       214129  Classic - 3 meals per week for 4 people   \n",
       "2 2015-04-16 09:30:21       215505  Classic - 3 meals per week for 2 people   \n",
       "3 2015-04-16 11:49:18       217739  Classic - 3 meals per week for 4 people   \n",
       "4 2015-04-17 09:39:19       217784  Classic - 3 meals per week for 4 people   \n",
       "\n",
       "         marketing_channel       City  Gross Product Margin  \\\n",
       "0   TV / Radio Advertising  San Diego                    35   \n",
       "1  Search Engine Marketing  San Diego                    58   \n",
       "2   TV / Radio Advertising  San Diego                    35   \n",
       "3   Newsletters (internal)  San Diego                    58   \n",
       "4   Newsletters (internal)  San Diego                    58   \n",
       "\n",
       "   Overall Product Margin  Count of product   weekday  number_of_people  \\\n",
       "0                    25.0                 1  Thursday                 2   \n",
       "1                    48.0                 1  Thursday                 4   \n",
       "2                    25.0                 1  Thursday                 2   \n",
       "3                    48.0                 1  Thursday                 4   \n",
       "4                    48.0                 1    Friday                 4   \n",
       "\n",
       "        State  \n",
       "0  California  \n",
       "1  California  \n",
       "2  California  \n",
       "3  California  \n",
       "4  California  "
      ]
     },
     "execution_count": 22,
     "metadata": {},
     "output_type": "execute_result"
    }
   ],
   "source": [
    "# Merging  Californian Cities into one state \n",
    "df = df.merge(right=my_tab_state , on= 'City', how= 'outer')\n",
    "df.head()"
   ]
  },
  {
   "cell_type": "code",
   "execution_count": 25,
   "metadata": {},
   "outputs": [
    {
     "data": {
      "text/plain": [
       "State\n",
       "California      204\n",
       "Florida         163\n",
       "California.2    136\n",
       "Pennsylvania    125\n",
       "California.1    122\n",
       "Washington       49\n",
       "Illinois         39\n",
       "New York         15\n",
       "Name: count, dtype: int64"
      ]
     },
     "execution_count": 25,
     "metadata": {},
     "output_type": "execute_result"
    }
   ],
   "source": [
    "df.State.value_counts()"
   ]
  },
  {
   "cell_type": "code",
   "execution_count": 26,
   "metadata": {
    "id": "Jge_rzMz5DCO"
   },
   "outputs": [
    {
     "data": {
      "text/plain": [
       "State\n",
       "California      462\n",
       "Florida         163\n",
       "Pennsylvania    125\n",
       "Washington       49\n",
       "Illinois         39\n",
       "New York         15\n",
       "Name: count, dtype: int64"
      ]
     },
     "execution_count": 26,
     "metadata": {},
     "output_type": "execute_result"
    }
   ],
   "source": [
    "# Grouping Californian Cities into one state \n",
    "df.State = df.State.replace(to_replace=['California.1','California.2'],value=['California', 'California'])\n",
    "df.State.value_counts()"
   ]
  },
  {
   "cell_type": "code",
   "execution_count": 27,
   "metadata": {
    "colab": {
     "base_uri": "https://localhost:8080/"
    },
    "id": "caO_xLgD6-Oc",
    "outputId": "99eaa96d-494c-472e-dfb4-ccafbd0ffb3a"
   },
   "outputs": [
    {
     "data": {
      "text/plain": [
       "array(['San Diego', 'Chicago', 'Los Angeles', 'Miami', 'New York',\n",
       "       'Philadelphia', 'San Dego', 'San Diego ', 'San Francisco',\n",
       "       'SanDiego', 'Washington'], dtype=object)"
      ]
     },
     "execution_count": 27,
     "metadata": {},
     "output_type": "execute_result"
    }
   ],
   "source": [
    "df['City'].unique()"
   ]
  },
  {
   "cell_type": "code",
   "execution_count": 28,
   "metadata": {
    "colab": {
     "base_uri": "https://localhost:8080/"
    },
    "id": "Z0-mw9Za5jhT",
    "outputId": "633dc84e-bd18-4b95-ac68-5a7a051cd917"
   },
   "outputs": [
    {
     "data": {
      "text/plain": [
       "date_sign_up              0\n",
       "customer_id               0\n",
       "product_name              0\n",
       "marketing_channel         0\n",
       "City                      0\n",
       "Gross Product Margin      0\n",
       "Overall Product Margin    0\n",
       "Count of product          0\n",
       "weekday                   0\n",
       "number_of_people          0\n",
       "State                     9\n",
       "dtype: int64"
      ]
     },
     "execution_count": 28,
     "metadata": {},
     "output_type": "execute_result"
    }
   ],
   "source": [
    "df.isna().sum()"
   ]
  },
  {
   "cell_type": "code",
   "execution_count": 29,
   "metadata": {
    "colab": {
     "base_uri": "https://localhost:8080/",
     "height": 49
    },
    "id": "sArfjhJA5vDv",
    "outputId": "67386043-82e7-4157-96ee-56b762297f3f"
   },
   "outputs": [
    {
     "data": {
      "text/html": [
       "<div>\n",
       "<style scoped>\n",
       "    .dataframe tbody tr th:only-of-type {\n",
       "        vertical-align: middle;\n",
       "    }\n",
       "\n",
       "    .dataframe tbody tr th {\n",
       "        vertical-align: top;\n",
       "    }\n",
       "\n",
       "    .dataframe thead th {\n",
       "        text-align: right;\n",
       "    }\n",
       "</style>\n",
       "<table border=\"1\" class=\"dataframe\">\n",
       "  <thead>\n",
       "    <tr style=\"text-align: right;\">\n",
       "      <th></th>\n",
       "      <th>date_sign_up</th>\n",
       "      <th>customer_id</th>\n",
       "      <th>product_name</th>\n",
       "      <th>marketing_channel</th>\n",
       "      <th>City</th>\n",
       "      <th>Gross Product Margin</th>\n",
       "      <th>Overall Product Margin</th>\n",
       "      <th>Count of product</th>\n",
       "      <th>weekday</th>\n",
       "      <th>number_of_people</th>\n",
       "      <th>State</th>\n",
       "    </tr>\n",
       "  </thead>\n",
       "  <tbody>\n",
       "    <tr>\n",
       "      <th>668</th>\n",
       "      <td>2015-04-16 09:08:22</td>\n",
       "      <td>222292</td>\n",
       "      <td>Classic - 3 meals per week for 2 people</td>\n",
       "      <td>Newsletters (internal)</td>\n",
       "      <td>San Dego</td>\n",
       "      <td>35</td>\n",
       "      <td>25.0</td>\n",
       "      <td>1</td>\n",
       "      <td>Thursday</td>\n",
       "      <td>2</td>\n",
       "      <td>NaN</td>\n",
       "    </tr>\n",
       "    <tr>\n",
       "      <th>669</th>\n",
       "      <td>2015-04-17 13:11:19</td>\n",
       "      <td>71041</td>\n",
       "      <td>Classic - 3 meals per week for 2 people</td>\n",
       "      <td>Search Engine Marketing</td>\n",
       "      <td>San Diego</td>\n",
       "      <td>35</td>\n",
       "      <td>25.0</td>\n",
       "      <td>1</td>\n",
       "      <td>Friday</td>\n",
       "      <td>2</td>\n",
       "      <td>NaN</td>\n",
       "    </tr>\n",
       "    <tr>\n",
       "      <th>670</th>\n",
       "      <td>2015-04-18 08:04:20</td>\n",
       "      <td>158646</td>\n",
       "      <td>Classic - 3 meals per week for 2 people</td>\n",
       "      <td>Newsletters (internal)</td>\n",
       "      <td>San Diego</td>\n",
       "      <td>35</td>\n",
       "      <td>25.0</td>\n",
       "      <td>1</td>\n",
       "      <td>Saturday</td>\n",
       "      <td>2</td>\n",
       "      <td>NaN</td>\n",
       "    </tr>\n",
       "    <tr>\n",
       "      <th>671</th>\n",
       "      <td>2015-04-17 06:57:18</td>\n",
       "      <td>186180</td>\n",
       "      <td>Classic - 3 meals per week for 2 people</td>\n",
       "      <td>Partnership Marketing</td>\n",
       "      <td>San Diego</td>\n",
       "      <td>35</td>\n",
       "      <td>25.0</td>\n",
       "      <td>1</td>\n",
       "      <td>Friday</td>\n",
       "      <td>2</td>\n",
       "      <td>NaN</td>\n",
       "    </tr>\n",
       "    <tr>\n",
       "      <th>672</th>\n",
       "      <td>2015-04-16 05:04:21</td>\n",
       "      <td>205611</td>\n",
       "      <td>Classic - 3 meals per week for 2 people</td>\n",
       "      <td>TV / Radio Advertising</td>\n",
       "      <td>San Diego</td>\n",
       "      <td>35</td>\n",
       "      <td>25.0</td>\n",
       "      <td>1</td>\n",
       "      <td>Thursday</td>\n",
       "      <td>2</td>\n",
       "      <td>NaN</td>\n",
       "    </tr>\n",
       "    <tr>\n",
       "      <th>673</th>\n",
       "      <td>2015-04-15 20:30:18</td>\n",
       "      <td>213584</td>\n",
       "      <td>Classic - 3 meals per week for 4 people</td>\n",
       "      <td>Newsletters (internal)</td>\n",
       "      <td>San Diego</td>\n",
       "      <td>58</td>\n",
       "      <td>48.0</td>\n",
       "      <td>1</td>\n",
       "      <td>Wednesday</td>\n",
       "      <td>4</td>\n",
       "      <td>NaN</td>\n",
       "    </tr>\n",
       "    <tr>\n",
       "      <th>674</th>\n",
       "      <td>2015-04-17 05:14:21</td>\n",
       "      <td>215253</td>\n",
       "      <td>Classic - 3 meals per week for 2 people</td>\n",
       "      <td>Newsletters (internal)</td>\n",
       "      <td>San Diego</td>\n",
       "      <td>35</td>\n",
       "      <td>25.0</td>\n",
       "      <td>1</td>\n",
       "      <td>Friday</td>\n",
       "      <td>2</td>\n",
       "      <td>NaN</td>\n",
       "    </tr>\n",
       "    <tr>\n",
       "      <th>811</th>\n",
       "      <td>2015-04-16 06:17:21</td>\n",
       "      <td>222031</td>\n",
       "      <td>Classic - 3 meals per week for 2 people</td>\n",
       "      <td>Partnership Marketing</td>\n",
       "      <td>SanDiego</td>\n",
       "      <td>35</td>\n",
       "      <td>25.0</td>\n",
       "      <td>1</td>\n",
       "      <td>Thursday</td>\n",
       "      <td>2</td>\n",
       "      <td>NaN</td>\n",
       "    </tr>\n",
       "    <tr>\n",
       "      <th>812</th>\n",
       "      <td>2015-04-16 06:47:21</td>\n",
       "      <td>222076</td>\n",
       "      <td>3 Meals (vegetarian) for 2 people</td>\n",
       "      <td>Newsletters (internal)</td>\n",
       "      <td>SanDiego</td>\n",
       "      <td>37</td>\n",
       "      <td>27.0</td>\n",
       "      <td>1</td>\n",
       "      <td>Thursday</td>\n",
       "      <td>2</td>\n",
       "      <td>NaN</td>\n",
       "    </tr>\n",
       "  </tbody>\n",
       "</table>\n",
       "</div>"
      ],
      "text/plain": [
       "           date_sign_up  customer_id                             product_name  \\\n",
       "668 2015-04-16 09:08:22       222292  Classic - 3 meals per week for 2 people   \n",
       "669 2015-04-17 13:11:19        71041  Classic - 3 meals per week for 2 people   \n",
       "670 2015-04-18 08:04:20       158646  Classic - 3 meals per week for 2 people   \n",
       "671 2015-04-17 06:57:18       186180  Classic - 3 meals per week for 2 people   \n",
       "672 2015-04-16 05:04:21       205611  Classic - 3 meals per week for 2 people   \n",
       "673 2015-04-15 20:30:18       213584  Classic - 3 meals per week for 4 people   \n",
       "674 2015-04-17 05:14:21       215253  Classic - 3 meals per week for 2 people   \n",
       "811 2015-04-16 06:17:21       222031  Classic - 3 meals per week for 2 people   \n",
       "812 2015-04-16 06:47:21       222076        3 Meals (vegetarian) for 2 people   \n",
       "\n",
       "           marketing_channel        City  Gross Product Margin  \\\n",
       "668   Newsletters (internal)    San Dego                    35   \n",
       "669  Search Engine Marketing  San Diego                     35   \n",
       "670   Newsletters (internal)  San Diego                     35   \n",
       "671    Partnership Marketing  San Diego                     35   \n",
       "672   TV / Radio Advertising  San Diego                     35   \n",
       "673   Newsletters (internal)  San Diego                     58   \n",
       "674   Newsletters (internal)  San Diego                     35   \n",
       "811    Partnership Marketing    SanDiego                    35   \n",
       "812   Newsletters (internal)    SanDiego                    37   \n",
       "\n",
       "     Overall Product Margin  Count of product    weekday  number_of_people  \\\n",
       "668                    25.0                 1   Thursday                 2   \n",
       "669                    25.0                 1     Friday                 2   \n",
       "670                    25.0                 1   Saturday                 2   \n",
       "671                    25.0                 1     Friday                 2   \n",
       "672                    25.0                 1   Thursday                 2   \n",
       "673                    48.0                 1  Wednesday                 4   \n",
       "674                    25.0                 1     Friday                 2   \n",
       "811                    25.0                 1   Thursday                 2   \n",
       "812                    27.0                 1   Thursday                 2   \n",
       "\n",
       "    State  \n",
       "668   NaN  \n",
       "669   NaN  \n",
       "670   NaN  \n",
       "671   NaN  \n",
       "672   NaN  \n",
       "673   NaN  \n",
       "674   NaN  \n",
       "811   NaN  \n",
       "812   NaN  "
      ]
     },
     "execution_count": 29,
     "metadata": {},
     "output_type": "execute_result"
    }
   ],
   "source": [
    "df[df['State'].isna()]"
   ]
  },
  {
   "cell_type": "code",
   "execution_count": 32,
   "metadata": {
    "id": "izfcsGQo6F7S"
   },
   "outputs": [],
   "source": [
    "df['State'] = df['State'].fillna('California')"
   ]
  },
  {
   "cell_type": "code",
   "execution_count": 33,
   "metadata": {},
   "outputs": [
    {
     "data": {
      "text/html": [
       "<div>\n",
       "<style scoped>\n",
       "    .dataframe tbody tr th:only-of-type {\n",
       "        vertical-align: middle;\n",
       "    }\n",
       "\n",
       "    .dataframe tbody tr th {\n",
       "        vertical-align: top;\n",
       "    }\n",
       "\n",
       "    .dataframe thead th {\n",
       "        text-align: right;\n",
       "    }\n",
       "</style>\n",
       "<table border=\"1\" class=\"dataframe\">\n",
       "  <thead>\n",
       "    <tr style=\"text-align: right;\">\n",
       "      <th></th>\n",
       "      <th>date_sign_up</th>\n",
       "      <th>customer_id</th>\n",
       "      <th>product_name</th>\n",
       "      <th>marketing_channel</th>\n",
       "      <th>City</th>\n",
       "      <th>Gross Product Margin</th>\n",
       "      <th>Overall Product Margin</th>\n",
       "      <th>Count of product</th>\n",
       "      <th>weekday</th>\n",
       "      <th>number_of_people</th>\n",
       "      <th>State</th>\n",
       "    </tr>\n",
       "  </thead>\n",
       "  <tbody>\n",
       "  </tbody>\n",
       "</table>\n",
       "</div>"
      ],
      "text/plain": [
       "Empty DataFrame\n",
       "Columns: [date_sign_up, customer_id, product_name, marketing_channel, City, Gross Product Margin, Overall Product Margin, Count of product, weekday, number_of_people, State]\n",
       "Index: []"
      ]
     },
     "execution_count": 33,
     "metadata": {},
     "output_type": "execute_result"
    }
   ],
   "source": [
    "df[df['State'].isna()]"
   ]
  },
  {
   "cell_type": "markdown",
   "metadata": {
    "id": "e4jcpgd6609M"
   },
   "source": [
    "## 6/ Which marketing channels worked best in which states?"
   ]
  },
  {
   "cell_type": "code",
   "execution_count": 34,
   "metadata": {
    "colab": {
     "base_uri": "https://localhost:8080/",
     "height": 354
    },
    "id": "3hyaZrDo7SWR",
    "outputId": "2da4be6b-a776-4e74-bb11-7e6119bd2a18"
   },
   "outputs": [
    {
     "data": {
      "text/html": [
       "<div>\n",
       "<style scoped>\n",
       "    .dataframe tbody tr th:only-of-type {\n",
       "        vertical-align: middle;\n",
       "    }\n",
       "\n",
       "    .dataframe tbody tr th {\n",
       "        vertical-align: top;\n",
       "    }\n",
       "\n",
       "    .dataframe thead th {\n",
       "        text-align: right;\n",
       "    }\n",
       "</style>\n",
       "<table border=\"1\" class=\"dataframe\">\n",
       "  <thead>\n",
       "    <tr style=\"text-align: right;\">\n",
       "      <th></th>\n",
       "      <th>marketing_channel</th>\n",
       "      <th>State</th>\n",
       "      <th>Count of product</th>\n",
       "    </tr>\n",
       "  </thead>\n",
       "  <tbody>\n",
       "    <tr>\n",
       "      <th>0</th>\n",
       "      <td>TV / Radio Advertising</td>\n",
       "      <td>California</td>\n",
       "      <td>1</td>\n",
       "    </tr>\n",
       "    <tr>\n",
       "      <th>1</th>\n",
       "      <td>Search Engine Marketing</td>\n",
       "      <td>California</td>\n",
       "      <td>1</td>\n",
       "    </tr>\n",
       "    <tr>\n",
       "      <th>2</th>\n",
       "      <td>TV / Radio Advertising</td>\n",
       "      <td>California</td>\n",
       "      <td>1</td>\n",
       "    </tr>\n",
       "    <tr>\n",
       "      <th>3</th>\n",
       "      <td>Newsletters (internal)</td>\n",
       "      <td>California</td>\n",
       "      <td>1</td>\n",
       "    </tr>\n",
       "    <tr>\n",
       "      <th>4</th>\n",
       "      <td>Newsletters (internal)</td>\n",
       "      <td>California</td>\n",
       "      <td>1</td>\n",
       "    </tr>\n",
       "  </tbody>\n",
       "</table>\n",
       "</div>"
      ],
      "text/plain": [
       "         marketing_channel       State  Count of product\n",
       "0   TV / Radio Advertising  California                 1\n",
       "1  Search Engine Marketing  California                 1\n",
       "2   TV / Radio Advertising  California                 1\n",
       "3   Newsletters (internal)  California                 1\n",
       "4   Newsletters (internal)  California                 1"
      ]
     },
     "execution_count": 34,
     "metadata": {},
     "output_type": "execute_result"
    }
   ],
   "source": [
    "df[['marketing_channel','State','Count of product']].head()"
   ]
  },
  {
   "cell_type": "code",
   "execution_count": 35,
   "metadata": {
    "colab": {
     "base_uri": "https://localhost:8080/"
    },
    "id": "CmC1H-4D7jiQ",
    "outputId": "c1aca374-3ec5-453e-9dd2-587be393a061"
   },
   "outputs": [
    {
     "data": {
      "text/plain": [
       "State         marketing_channel      \n",
       "California    Newsletters (internal)     249\n",
       "              Partnership Marketing       52\n",
       "              Search Engine Marketing     62\n",
       "              TV / Radio Advertising     110\n",
       "Florida       Newsletters (internal)      59\n",
       "              Partnership Marketing       13\n",
       "              Search Engine Marketing      6\n",
       "              TV / Radio Advertising      87\n",
       "Illinois      Newsletters (internal)      17\n",
       "              Partnership Marketing        7\n",
       "              Search Engine Marketing      5\n",
       "              TV / Radio Advertising      10\n",
       "New York      Newsletters (internal)       6\n",
       "              Partnership Marketing        3\n",
       "              Search Engine Marketing      2\n",
       "              TV / Radio Advertising       4\n",
       "Pennsylvania  Newsletters (internal)      71\n",
       "              Partnership Marketing       11\n",
       "              Search Engine Marketing     20\n",
       "              TV / Radio Advertising      31\n",
       "Washington    Newsletters (internal)      19\n",
       "              Partnership Marketing        3\n",
       "              Search Engine Marketing     10\n",
       "              TV / Radio Advertising      17\n",
       "Name: Count of product, dtype: int64"
      ]
     },
     "execution_count": 35,
     "metadata": {},
     "output_type": "execute_result"
    }
   ],
   "source": [
    "overview = df.groupby(['State', 'marketing_channel'])['Count of product'].sum()\n",
    "\n",
    "df.groupby(['State', 'marketing_channel'])['Count of product'].sum()"
   ]
  },
  {
   "cell_type": "code",
   "execution_count": 36,
   "metadata": {
    "colab": {
     "base_uri": "https://localhost:8080/",
     "height": 269
    },
    "id": "dqt3PaKG7_CR",
    "outputId": "8b339b66-dc19-4d38-df41-8c548264fe05"
   },
   "outputs": [
    {
     "data": {
      "text/html": [
       "<div>\n",
       "<style scoped>\n",
       "    .dataframe tbody tr th:only-of-type {\n",
       "        vertical-align: middle;\n",
       "    }\n",
       "\n",
       "    .dataframe tbody tr th {\n",
       "        vertical-align: top;\n",
       "    }\n",
       "\n",
       "    .dataframe thead th {\n",
       "        text-align: right;\n",
       "    }\n",
       "</style>\n",
       "<table border=\"1\" class=\"dataframe\">\n",
       "  <thead>\n",
       "    <tr style=\"text-align: right;\">\n",
       "      <th>marketing_channel</th>\n",
       "      <th>Newsletters (internal)</th>\n",
       "      <th>Partnership Marketing</th>\n",
       "      <th>Search Engine Marketing</th>\n",
       "      <th>TV / Radio Advertising</th>\n",
       "    </tr>\n",
       "    <tr>\n",
       "      <th>State</th>\n",
       "      <th></th>\n",
       "      <th></th>\n",
       "      <th></th>\n",
       "      <th></th>\n",
       "    </tr>\n",
       "  </thead>\n",
       "  <tbody>\n",
       "    <tr>\n",
       "      <th>California</th>\n",
       "      <td>249</td>\n",
       "      <td>52</td>\n",
       "      <td>62</td>\n",
       "      <td>110</td>\n",
       "    </tr>\n",
       "    <tr>\n",
       "      <th>Florida</th>\n",
       "      <td>59</td>\n",
       "      <td>13</td>\n",
       "      <td>6</td>\n",
       "      <td>87</td>\n",
       "    </tr>\n",
       "    <tr>\n",
       "      <th>Illinois</th>\n",
       "      <td>17</td>\n",
       "      <td>7</td>\n",
       "      <td>5</td>\n",
       "      <td>10</td>\n",
       "    </tr>\n",
       "    <tr>\n",
       "      <th>New York</th>\n",
       "      <td>6</td>\n",
       "      <td>3</td>\n",
       "      <td>2</td>\n",
       "      <td>4</td>\n",
       "    </tr>\n",
       "    <tr>\n",
       "      <th>Pennsylvania</th>\n",
       "      <td>71</td>\n",
       "      <td>11</td>\n",
       "      <td>20</td>\n",
       "      <td>31</td>\n",
       "    </tr>\n",
       "    <tr>\n",
       "      <th>Washington</th>\n",
       "      <td>19</td>\n",
       "      <td>3</td>\n",
       "      <td>10</td>\n",
       "      <td>17</td>\n",
       "    </tr>\n",
       "  </tbody>\n",
       "</table>\n",
       "</div>"
      ],
      "text/plain": [
       "marketing_channel  Newsletters (internal)  Partnership Marketing  \\\n",
       "State                                                              \n",
       "California                            249                     52   \n",
       "Florida                                59                     13   \n",
       "Illinois                               17                      7   \n",
       "New York                                6                      3   \n",
       "Pennsylvania                           71                     11   \n",
       "Washington                             19                      3   \n",
       "\n",
       "marketing_channel  Search Engine Marketing  TV / Radio Advertising  \n",
       "State                                                               \n",
       "California                              62                     110  \n",
       "Florida                                  6                      87  \n",
       "Illinois                                 5                      10  \n",
       "New York                                 2                       4  \n",
       "Pennsylvania                            20                      31  \n",
       "Washington                              10                      17  "
      ]
     },
     "execution_count": 36,
     "metadata": {},
     "output_type": "execute_result"
    }
   ],
   "source": [
    "overview.unstack()"
   ]
  },
  {
   "cell_type": "code",
   "execution_count": 37,
   "metadata": {},
   "outputs": [
    {
     "data": {
      "image/png": "[encoded data removed]",
      "text/plain": [
       "<Figure size 640x480 with 1 Axes>"
      ]
     },
     "metadata": {},
     "output_type": "display_data"
    }
   ],
   "source": [
    "import seaborn as sns \n",
    "sns.countplot(x='State',hue='marketing_channel', data=df); \n",
    "plt.xticks(rotation='vertical');\n",
    "plt.title('number of boxes sold per marketing channel per state');"
   ]
  },
  {
   "cell_type": "markdown",
   "metadata": {},
   "source": [
    "## General conclusion"
   ]
  },
  {
   "cell_type": "code",
   "execution_count": null,
   "metadata": {},
   "outputs": [],
   "source": [
    "# We conclude that \n",
    "# California, Florida, and Pennsyvannia States are Buying the most Lunch box. \n",
    "# The Adverstinsing the most usefull is seen via Newsletters(internal) and TV / radio media. \n",
    "# people buy lunch box mostly on Tuesday and Wednesday. "
   ]
  }
 ],
 "metadata": {
  "colab": {
   "provenance": []
  },
  "kernelspec": {
   "display_name": "Python 3 (ipykernel)",
   "language": "python",
   "name": "python3"
  },
  "language_info": {
   "codemirror_mode": {
    "name": "ipython",
    "version": 3
   },
   "file_extension": ".py",
   "mimetype": "text/x-python",
   "name": "python",
   "nbconvert_exporter": "python",
   "pygments_lexer": "ipython3",
   "version": "3.9.17"
  }
 },
 "nbformat": 4,
 "nbformat_minor": 1
}
